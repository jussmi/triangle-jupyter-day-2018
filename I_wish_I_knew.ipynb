{
 "cells": [
  {
   "cell_type": "markdown",
   "metadata": {},
   "source": [
    "# Everything I wish I'd known sooner.\n",
    "> ## So Far."
   ]
  },
  {
   "cell_type": "markdown",
   "metadata": {},
   "source": [
    "\n",
    "\n",
    "[**Justin Smith**](https://github.com/jussmi \"My GitHub Page\"), ~~Valassis Digital~~ Advance Auto Parts\n",
    "\n",
    "<br>\n",
    "This was a lightning talk given at Triangle Jupyter Day 2018. Feel free to reach out with questions!\n",
    "<br>\n",
    "<br>\n",
    "<br>\n",
    "<br>\n",
    "<br>\n",
    "<br>"
   ]
  },
  {
   "cell_type": "markdown",
   "metadata": {},
   "source": [
    "# Exploration and Status\n",
    "<br>"
   ]
  },
  {
   "cell_type": "markdown",
   "metadata": {},
   "source": [
    "## Finding stuff.\n",
    "#### [Tab] _everything_\n",
    "#### [Shift+Tab (TabTabTab)] for docstrings\n",
    "#### [Esc+h] for keyboard shortcuts\n",
    "#### [Ctrl+Shift+F/P] for command palette\n",
    "<br>\n",
    "<br>"
   ]
  },
  {
   "cell_type": "markdown",
   "metadata": {},
   "source": [
    "## Cell and line magics.\n",
    "#### You can see all the available magics with <font color=blue>`%lsmagic`<font>"
   ]
  },
  {
   "cell_type": "code",
   "execution_count": null,
   "metadata": {},
   "outputs": [],
   "source": [
    "%lsmagic"
   ]
  },
  {
   "cell_type": "markdown",
   "metadata": {},
   "source": [
    "#### Unsure what something does? Throw a <span style=\"color:blue\">?</span> in the vicinity\n"
   ]
  },
  {
   "cell_type": "code",
   "execution_count": null,
   "metadata": {},
   "outputs": [],
   "source": [
    "%lsmagic?"
   ]
  },
  {
   "cell_type": "code",
   "execution_count": null,
   "metadata": {},
   "outputs": [],
   "source": [
    "?%lsmagic"
   ]
  },
  {
   "cell_type": "markdown",
   "metadata": {},
   "source": [
    "#### and when wanting to get real wild, throw on two (<span style=\"color:blue\">??</span>) to see the code."
   ]
  },
  {
   "cell_type": "code",
   "execution_count": null,
   "metadata": {},
   "outputs": [],
   "source": [
    "%lsmagic??"
   ]
  },
  {
   "cell_type": "markdown",
   "metadata": {},
   "source": [
    "> ##### This goes for functions, classes, and modules as well."
   ]
  },
  {
   "cell_type": "markdown",
   "metadata": {},
   "source": [
    "## List all notebook defined vars and imports with <span style=\"color:blue\">%who</span>"
   ]
  },
  {
   "cell_type": "code",
   "execution_count": null,
   "metadata": {},
   "outputs": [],
   "source": [
    "# doctest mode changes outputs to more closely match the standard REPL\n",
    "# Here we're just using it to not let dir() print two dozen lines and keep\n",
    "# it more compact.\n",
    "%doctest_mode"
   ]
  },
  {
   "cell_type": "code",
   "execution_count": null,
   "metadata": {},
   "outputs": [],
   "source": [
    "dir()"
   ]
  },
  {
   "cell_type": "code",
   "execution_count": null,
   "metadata": {},
   "outputs": [],
   "source": [
    "# calling it again turns it back off\n",
    "%doctest_mode"
   ]
  },
  {
   "cell_type": "code",
   "execution_count": null,
   "metadata": {},
   "outputs": [],
   "source": [
    "# who shows you all the packages and variables you've defined. This one is empty.\n",
    "%who"
   ]
  },
  {
   "cell_type": "markdown",
   "metadata": {},
   "source": [
    "#### Let's import a local module."
   ]
  },
  {
   "cell_type": "code",
   "execution_count": null,
   "metadata": {},
   "outputs": [],
   "source": [
    "# this imports the associated hippos.py file, based on the Sandra Boynton\n",
    "# not quite classic \"Hippos Go Berserk\" a counting cautionary tale about\n",
    "# the fleeting companionship of hosting a house party for 44 other\n",
    "# hippos and a beast.\n",
    "import hippos\n",
    "hippos.display_cover_image()"
   ]
  },
  {
   "cell_type": "code",
   "execution_count": null,
   "metadata": {},
   "outputs": [],
   "source": [
    "display(hippos.Image(hippos.IMAGE_PATH+'two_hippos_arrive.jpg'))"
   ]
  },
  {
   "cell_type": "code",
   "execution_count": null,
   "metadata": {},
   "outputs": [],
   "source": [
    "# here we create an individual hippo to demonstrate.\n",
    "# use shift+tab within the hippos.Hippo() parentheses to\n",
    "# bring up the docstring. Keep hitting tab to see different\n",
    "# view options and pin the docstring to the frame.\n",
    "hippo_24 = hippos.Hippo('front door', 'birthday suit', 'party!')\n",
    "hippo_24.go_berserk()"
   ]
  },
  {
   "cell_type": "code",
   "execution_count": null,
   "metadata": {},
   "outputs": [],
   "source": [
    "# if you keep running go_berserk() you'll notice the output is not\n",
    "# consistent.\n",
    "hippo_24.go_berserk()"
   ]
  },
  {
   "cell_type": "code",
   "execution_count": null,
   "metadata": {},
   "outputs": [],
   "source": [
    "# Use the ?? to see the underlying code, and notice the random.choice\n",
    "# call driving the behavior.\n",
    "hippos.Hippo.go_berserk??"
   ]
  },
  {
   "cell_type": "code",
   "execution_count": null,
   "metadata": {},
   "outputs": [],
   "source": [
    "# Now both hippo_24 and the hippos module appear in our % who call\n",
    "%who"
   ]
  },
  {
   "cell_type": "markdown",
   "metadata": {},
   "source": [
    "<br>\n",
    "<br>\n",
    "<br>\n",
    "<h1>Recovering.</h1>\n",
    "<br>"
   ]
  },
  {
   "cell_type": "code",
   "execution_count": null,
   "metadata": {},
   "outputs": [],
   "source": [
    "# Having a long running function the returns an object is\n",
    "# common when dealing with data.\n",
    "hippos.a_long_running_function(10)"
   ]
  },
  {
   "cell_type": "markdown",
   "metadata": {},
   "source": [
    "#### If you forget to assign your function result to a variable, it is available on the next call using <span style=\"color:blue\">*_*</span>, the underscore"
   ]
  },
  {
   "cell_type": "code",
   "execution_count": null,
   "metadata": {},
   "outputs": [],
   "source": [
    "_"
   ]
  },
  {
   "cell_type": "markdown",
   "metadata": {},
   "source": [
    "<br>\n",
    "<br>"
   ]
  },
  {
   "cell_type": "code",
   "execution_count": null,
   "metadata": {},
   "outputs": [],
   "source": [
    "print('If you forget again... you can use __, the double underscore')"
   ]
  },
  {
   "cell_type": "code",
   "execution_count": null,
   "metadata": {},
   "outputs": [],
   "source": [
    "__"
   ]
  },
  {
   "cell_type": "markdown",
   "metadata": {},
   "source": [
    "<br>\n",
    "<br>"
   ]
  },
  {
   "cell_type": "code",
   "execution_count": null,
   "metadata": {},
   "outputs": [],
   "source": [
    "print('Again?! Alright, use the ___, triple underscore')"
   ]
  },
  {
   "cell_type": "code",
   "execution_count": null,
   "metadata": {},
   "outputs": [],
   "source": [
    "___"
   ]
  },
  {
   "cell_type": "markdown",
   "metadata": {},
   "source": [
    "#### The stacktrace tells you the cell where the issue is within the notebook as well as the module."
   ]
  },
  {
   "cell_type": "code",
   "execution_count": null,
   "metadata": {},
   "outputs": [],
   "source": [
    "# notice the ipython-input-##-hashstuff in the stacktrace. The\n",
    "# ##s correspond with the [##] of the cell to the left. This is\n",
    "# handy when your notebooks get larger.\n",
    "hippos.a_function_with_a_problem()"
   ]
  },
  {
   "cell_type": "code",
   "execution_count": null,
   "metadata": {},
   "outputs": [],
   "source": [
    "# Edit the function within hippos.py to remove the raise ValueError and attempt to run the cell below.\n",
    "# It _should_ break still and seem like the code has not been altered."
   ]
  },
  {
   "cell_type": "code",
   "execution_count": null,
   "metadata": {},
   "outputs": [],
   "source": [
    "hippos.a_function_with_a_problem()"
   ]
  },
  {
   "cell_type": "markdown",
   "metadata": {},
   "source": [
    "#### You can use the reload function to not have to restart your kernel (or sometimes have to go delete .pyc files...)"
   ]
  },
  {
   "cell_type": "code",
   "execution_count": null,
   "metadata": {},
   "outputs": [],
   "source": [
    "from importlib import reload"
   ]
  },
  {
   "cell_type": "code",
   "execution_count": null,
   "metadata": {},
   "outputs": [],
   "source": [
    "reload(hippos)"
   ]
  },
  {
   "cell_type": "code",
   "execution_count": null,
   "metadata": {},
   "outputs": [],
   "source": [
    "hippos.a_function_with_a_problem()"
   ]
  },
  {
   "cell_type": "markdown",
   "metadata": {},
   "source": [
    "## Use the <span style=\"color:blue\">!</span> to execute shell commands directly from the notebook."
   ]
  },
  {
   "cell_type": "code",
   "execution_count": null,
   "metadata": {},
   "outputs": [],
   "source": [
    "!ls -l static"
   ]
  },
  {
   "cell_type": "code",
   "execution_count": null,
   "metadata": {},
   "outputs": [],
   "source": [
    "# you can save the shell output to a notebook var\n",
    "shell_output = !ls -l static"
   ]
  },
  {
   "cell_type": "code",
   "execution_count": null,
   "metadata": {},
   "outputs": [],
   "source": [
    "# it looks like a list!\n",
    "shell_output"
   ]
  },
  {
   "cell_type": "code",
   "execution_count": null,
   "metadata": {},
   "outputs": [],
   "source": [
    "# just a fun fact, if you add a ; to your call, it'll suppress the output of the last line\n",
    "# compare this to the output of cell above\n",
    "shell_output;"
   ]
  },
  {
   "cell_type": "code",
   "execution_count": null,
   "metadata": {},
   "outputs": [],
   "source": [
    "# The object is not a list though, it has some special methods specific to the return.\n",
    "# use Tab to browse them all\n",
    "shell_output.grep('cover')"
   ]
  },
  {
   "cell_type": "code",
   "execution_count": null,
   "metadata": {},
   "outputs": [],
   "source": [
    "shell_output.fields(-1)"
   ]
  },
  {
   "cell_type": "markdown",
   "metadata": {},
   "source": [
    "## Look at the contents of a file without leaving the notebook."
   ]
  },
  {
   "cell_type": "code",
   "execution_count": null,
   "metadata": {},
   "outputs": [],
   "source": [
    "%less hippos.py"
   ]
  },
  {
   "cell_type": "code",
   "execution_count": null,
   "metadata": {},
   "outputs": [],
   "source": [
    "hippos.display_a_random_page()"
   ]
  },
  {
   "cell_type": "code",
   "execution_count": null,
   "metadata": {},
   "outputs": [],
   "source": [
    "hippos.all_the_hippos_go_berserk(hippos.make_hippos())"
   ]
  },
  {
   "cell_type": "markdown",
   "metadata": {},
   "source": [
    "### Thank You!\n",
    "Special thanks to [Joan Pharr](https://github.com/pharja4 \"Joan's GitHub\") and [Peter Parente](https://github.com/parente \"Peter's GitHub\") for their help with this presentation, and to [Sandra Boynton](https://www.sandraboynton.com \"Sandra's Homepage\") for her love of drawing hippos."
   ]
  },
  {
   "cell_type": "code",
   "execution_count": null,
   "metadata": {},
   "outputs": [],
   "source": [
    "hippos.display_a_random_image()"
   ]
  },
  {
   "cell_type": "code",
   "execution_count": null,
   "metadata": {},
   "outputs": [],
   "source": []
  }
 ],
 "metadata": {
  "kernelspec": {
   "display_name": "Python 3",
   "language": "python",
   "name": "python3"
  },
  "language_info": {
   "codemirror_mode": {
    "name": "ipython",
    "version": 3
   },
   "file_extension": ".py",
   "mimetype": "text/x-python",
   "name": "python",
   "nbconvert_exporter": "python",
   "pygments_lexer": "ipython3",
   "version": "3.7.3"
  }
 },
 "nbformat": 4,
 "nbformat_minor": 2
}
